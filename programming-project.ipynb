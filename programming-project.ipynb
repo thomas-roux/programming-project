{
 "cells": [
  {
   "cell_type": "markdown",
   "metadata": {},
   "source": [
    "**WORK IN PROGRESS**"
   ]
  },
  {
   "cell_type": "markdown",
   "metadata": {},
   "source": [
    "# Purpose"
   ]
  },
  {
   "cell_type": "markdown",
   "metadata": {},
   "source": [
    "To develop a dataset of simulated patients attending ED with uncomplicated sepsis. \n",
    "\n",
    "This dataset arose from a [recent article][1] that described how an active sepsis alert system reduced inpatient mortality and morbidity on a large scale. This investigation was driven by the lack of large scale studies investigating the effectiveness of such a system. As ED is the first port of call for most patients, it may be useful to apply similar systems in such a setting. The following dataset simulates an adult ED population of a typical Irish hospital, and the number of patients with uncomplicated sepsis in that population.\n",
    "\n",
    "For the purpose of this dataset, the outcome of interest is recognition of uncomplicated sepsis in an average ED population. In order for sepsis to be present, an infective source needs to be present. It will be assumed that if any of the patients within the dataset fulfill the criteria for sepsis, that they have a likely infective source. Secondly, the dataset will only make use of clinical parameters that can be measured at presentation; that is, laboratory parameters will not be included in the dataset. The 'general variables' presented in Appendix 7 of the [National Clinical Effectiveness Committee's Sepsis Managament National Clinical Guideline No. 6][2] will be the only variables of interest included in the dataset. These are as follows, and align with the variables used to measure the [prevalence of uncomplicated sepsis in Irish ED's][3]: \n",
    "1. Temperature <36 or >38.3 degrees celsius\n",
    "2. Heart rate >90 beats per minute\n",
    "3. Respiratoty rate >20 breaths per minute\n",
    "4. Altered mental state, recorded as 'Yes' or 'No'\n",
    "5. Blood glucose level of >7.7 mmol/L in non-diabetic (for the sake of this dataset, all patients are non-diabetic)\n",
    "\n",
    "[1]: https://academic.oup.com/jamia/advance-article/doi/10.1093/jamia/ocz186/5607431\n",
    "[2]: https://assets.gov.ie/11620/4678fb449336482fb291a140ef67e570.pdf\n",
    "[3]: http://imj.ie/the-prevalence-of-severe-sepsis-or-septic-shock-in-an-irish-emergency-department/"
   ]
  },
  {
   "cell_type": "markdown",
   "metadata": {},
   "source": [
    "## Proportion of adult (>18 yrs) patients attending Irish emergency departments\n",
    "According to the Central Statistics Office (CSO), 10% of the adult Irish population who took part in the [Quarterly National Household Survey Q3 2010][1] attended an accident and emergency (A&E) department in the 12 months prior to the survey. Based on the [2016 census][2], the population of Ireland >18 years of age was estimated at 3,424,795, which equates to roughly 9,383 A&E visits across the country every day. However, a report by the [HSE in 2006][3] placed this figure closer to 3,300. For the interest of this project, we will work with a daily A&E attendance number of 3,500. \n",
    "\n",
    "Presentations to A&E are not evenly distributed across the age categories, with a bimodal presentation with peaks at 18-24 and 70+. Thus, the first parameter for our dataset, namely age, [can be selected from two normal distributions][4] with means at 18 and 70 respectively, standard deviations of 15. This generates a bimodal distribution as shown in the following plot:\n",
    "\n",
    "[1]: https://www.cso.ie/en/media/csoie/releasespublications/documents/labourmarket/2010/healthstatusq32010.pdf\n",
    "[2]: https://statbank.cso.ie/px/pxeirestat/Statire/SelectVarVal/saveselections.asp\n",
    "[3]: https://www.hse.ie/eng/services/publications/hospitals/hse-emergency-departments--patient-profiles,-experiences-and-perceptions.pdf\n",
    "[4]: https://medium.com/@michellemho/faking-data-87c063cf38a7"
   ]
  },
  {
   "cell_type": "code",
   "execution_count": 1,
   "metadata": {},
   "outputs": [],
   "source": [
    "# Import necessary packages\n",
    "import pandas as pd\n",
    "import numpy as np\n",
    "import matplotlib.pyplot as plt"
   ]
  },
  {
   "cell_type": "code",
   "execution_count": 2,
   "metadata": {},
   "outputs": [
    {
     "data": {
      "text/plain": [
       "(array([  9.,  39., 100., 190., 280., 205., 121.,  45.,   7.,   4.]),\n",
       " array([ 25.05117324,  34.87981308,  44.70845292,  54.53709277,\n",
       "         64.36573261,  74.19437245,  84.02301229,  93.85165213,\n",
       "        103.68029197, 113.50893181, 123.33757165]),\n",
       " <a list of 10 Patch objects>)"
      ]
     },
     "execution_count": 2,
     "metadata": {},
     "output_type": "execute_result"
    },
    {
     "data": {
      "image/png": "[encoded data removed]",
      "text/plain": [
       "<Figure size 432x288 with 1 Axes>"
      ]
     },
     "metadata": {
      "needs_background": "light"
     },
     "output_type": "display_data"
    }
   ],
   "source": [
    "# Generate two normal distributions of 1,000 values, young and old, with mean of 18 and 70 respectively, \n",
    "# and standard deviation of 15\n",
    "y = np.random.normal(18, 15, 1000)\n",
    "o = np.random.normal(70, 15, 1000)\n",
    "\n",
    "# Plot histograms the two distributions on the same plot\n",
    "plt.hist(y)\n",
    "plt.hist(o)"
   ]
  },
  {
   "cell_type": "markdown",
   "metadata": {},
   "source": [
    "Thus, two normal distributions give us a bimodal distribution that represents the distribution as it occurs in reality.\n",
    "\n",
    "However, for the purpose of this exercise, we want to limit our sample to those over 18 years, and under 75 years of age. We also want to create a sample size of 3,500 'patients'. As the data shows that there is roughly an equal proportion of those in the 18-24 age bracket (13%) and the 70+ age bracket (11%), we will sample an equal proportion from each distribution."
   ]
  },
  {
   "cell_type": "code",
   "execution_count": 17,
   "metadata": {},
   "outputs": [],
   "source": [
    "# Create counter and population size\n",
    "count = 0\n",
    "pop = 3500\n",
    "\n",
    "# Create list of ages (this will be converted to a dataframe for analysis in due course)\n",
    "ages = []\n",
    "\n",
    "# Generate a random list of 3,500 ages from a bimodal distribution\n",
    "# Run through the random samples as they are generated, and only add ages > 18 and < 75 to the list\n",
    "while count < pop:\n",
    "    yng = int(np.random.normal(18, 15)) # Young normal distribution centred around a mean of 15, SD of 15\n",
    "    # print(yng)\n",
    "    old = int(np.random.normal(70, 15)) # Old normal distribution centred around a mean of 70, SD of 15\n",
    "    # print(old)\n",
    "    if yng < 18:\n",
    "        continue\n",
    "    if old > 75:\n",
    "        continue\n",
    "    else:\n",
    "        ages.append(yng)\n",
    "        ages.append(old)\n",
    "    count += 2 # Increment count by 2 each time for yng and old age addition"
   ]
  },
  {
   "cell_type": "code",
   "execution_count": 18,
   "metadata": {},
   "outputs": [
    {
     "data": {
      "text/plain": [
       "(array([387., 506., 399., 307., 207., 223., 276., 353., 423., 419.]),\n",
       " array([16. , 21.9, 27.8, 33.7, 39.6, 45.5, 51.4, 57.3, 63.2, 69.1, 75. ]),\n",
       " <a list of 10 Patch objects>)"
      ]
     },
     "execution_count": 18,
     "metadata": {},
     "output_type": "execute_result"
    },
    {
     "data": {
      "image/png": "[encoded data removed]",
      "text/plain": [
       "<Figure size 432x288 with 1 Axes>"
      ]
     },
     "metadata": {
      "needs_background": "light"
     },
     "output_type": "display_data"
    }
   ],
   "source": [
    "# Plot list to confirm bimodal distribution\n",
    "plt.hist(ages)"
   ]
  },
  {
   "cell_type": "markdown",
   "metadata": {},
   "source": [
    "## Create sepsis patients\n",
    "According to a [study][1] conducted in one of the busiest EDs in Ireland, roughly 4.24% of ED presentations are suffering from sepsis. This proportion is not evenly distributed, with older patients more likely to have sepsis (median 45 without sepsis versus a median of 65 for those with sepsis). In order to accurately reflect this, we will randomly select 4% of the sample between the ages of 50 and 75 to have sepsis. We will then select 0.5% from the remaining sample to have sepsis to represent the possibility of sepsis at all ages.\n",
    "\n",
    "[1]: https://www.lenus.ie/bitstream/handle/10147/620877/art3.html?sequence=1"
   ]
  },
  {
   "cell_type": "code",
   "execution_count": 24,
   "metadata": {},
   "outputs": [
    {
     "data": {
      "text/plain": [
       "array([18, 47, 26, 53, 65, 72, 74, 34, 21, 22, 68, 26, 70, 25, 45, 20, 73,\n",
       "       26, 19, 64, 54, 56, 64, 26, 27, 43, 19, 71, 23, 63, 43, 40, 63, 21,\n",
       "       24, 63, 28, 63, 26, 32, 58, 66, 70, 27, 34, 21, 72, 24, 31, 64, 18,\n",
       "       21, 27, 22, 66, 54, 41, 34, 42, 71, 71, 66, 20, 57, 27, 25, 61, 19,\n",
       "       72, 63, 24, 44, 69, 64, 55, 25, 73, 26, 64, 23, 22, 64, 29, 65, 34,\n",
       "       69, 71, 52, 30, 44, 39, 60, 18, 64, 63, 21, 55, 35, 73, 24, 31, 35,\n",
       "       32, 51, 66, 26, 70, 66, 61, 32, 56, 20, 51, 40, 32, 67, 43, 32, 34,\n",
       "       60, 26, 34, 59, 45, 21, 26, 61, 73, 28, 29, 62, 67, 31, 20, 60, 64,\n",
       "       67, 53, 20, 36, 37, 25, 68, 28, 66, 65, 24, 53, 61, 22, 52, 54, 19,\n",
       "       61, 19, 40, 25, 58, 63, 41, 59, 60, 26, 26, 54, 47, 28, 55, 68, 36,\n",
       "       28, 62, 34, 65, 28])"
      ]
     },
     "execution_count": 24,
     "metadata": {},
     "output_type": "execute_result"
    }
   ],
   "source": [
    "np.random.choice(ages, 175)"
   ]
  },
  {
   "cell_type": "code",
   "execution_count": 23,
   "metadata": {},
   "outputs": [
    {
     "ename": "ValueError",
     "evalue": "a must be 1-dimensional",
     "output_type": "error",
     "traceback": [
      "\u001b[0;31m---------------------------------------------------------------------------\u001b[0m",
      "\u001b[0;31mValueError\u001b[0m                                Traceback (most recent call last)",
      "\u001b[0;32m<ipython-input-23-030e69bcf282>\u001b[0m in \u001b[0;36m<module>\u001b[0;34m\u001b[0m\n\u001b[0;32m----> 1\u001b[0;31m \u001b[0mnp\u001b[0m\u001b[0;34m.\u001b[0m\u001b[0mrandom\u001b[0m\u001b[0;34m.\u001b[0m\u001b[0mchoice\u001b[0m\u001b[0;34m(\u001b[0m\u001b[0mdf\u001b[0m\u001b[0;34m,\u001b[0m \u001b[0;36m175\u001b[0m\u001b[0;34m)\u001b[0m\u001b[0;34m\u001b[0m\u001b[0;34m\u001b[0m\u001b[0m\n\u001b[0m",
      "\u001b[0;32mmtrand.pyx\u001b[0m in \u001b[0;36mmtrand.RandomState.choice\u001b[0;34m()\u001b[0m\n",
      "\u001b[0;31mValueError\u001b[0m: a must be 1-dimensional"
     ]
    }
   ],
   "source": []
  },
  {
   "cell_type": "code",
   "execution_count": 20,
   "metadata": {},
   "outputs": [
    {
     "data": {
      "text/plain": [
       "175.0"
      ]
     },
     "execution_count": 20,
     "metadata": {},
     "output_type": "execute_result"
    }
   ],
   "source": [
    "# Create variables\n",
    "prop = pop*0.05 # 5% of population\n",
    "# print(prop)\n",
    "\n",
    "# Select "
   ]
  },
  {
   "cell_type": "code",
   "execution_count": null,
   "metadata": {},
   "outputs": [],
   "source": []
  }
 ],
 "metadata": {
  "kernelspec": {
   "display_name": "Python 3",
   "language": "python",
   "name": "python3"
  },
  "language_info": {
   "codemirror_mode": {
    "name": "ipython",
    "version": 3
   },
   "file_extension": ".py",
   "mimetype": "text/x-python",
   "name": "python",
   "nbconvert_exporter": "python",
   "pygments_lexer": "ipython3",
   "version": "3.7.1"
  }
 },
 "nbformat": 4,
 "nbformat_minor": 2
}
