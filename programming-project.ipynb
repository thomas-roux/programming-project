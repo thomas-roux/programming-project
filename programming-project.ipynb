{
 "cells": [
  {
   "cell_type": "markdown",
   "metadata": {},
   "source": [
    "**WORK IN PROGRESS**"
   ]
  },
  {
   "cell_type": "markdown",
   "metadata": {},
   "source": [
    "# Purpose"
   ]
  },
  {
   "cell_type": "markdown",
   "metadata": {},
   "source": [
    "To develop a dataset of simulated patients attending ED with uncomplicated sepsis. \n",
    "\n",
    "This dataset arose from a [recent article][1] that described how an active sepsis alert system reduced inpatient mortality and morbidity on a large scale. This investigation was driven by the lack of large scale studies investigating the effectiveness of such a system. As ED is the first port of call for most patients, it may be useful to apply similar systems in such a setting. The following dataset simulates an adult ED population of a typical Irish hospital, and the number of patients with uncomplicated sepsis in that population.\n",
    "\n",
    "For the purpose of this dataset, the outcome of interest is recognition of uncomplicated sepsis in an average ED population. In order for sepsis to be present, an infective source needs to be present. It will be assumed that if any of the patients within the dataset fulfill the criteria for sepsis, that they have a likely infective source. Secondly, the dataset will only make use of clinical parameters that can be measured at presentation; that is, laboratory parameters will not be included in the dataset. The 'general variables' presented in Appendix 7 of the [National Clinical Effectiveness Committee's Sepsis Managament National Clinical Guideline No. 6][2] will be the only variables of interest included in the dataset. These are as follows, and align with the variables used to measure the [prevalence of uncomplicated sepsis in Irish ED's][3]: \n",
    "1. Temperature <36 or >38.3 degrees celsius\n",
    "2. Heart rate >90 beats per minute\n",
    "3. Respiratoty rate >20 breaths per minute\n",
    "4. Altered mental state, recorded as 'Yes' or 'No'\n",
    "5. Blood glucose level of >7.7 mmol/L in non-diabetic (for the sake of this dataset, all patients are non-diabetic)\n",
    "\n",
    "[1]: https://academic.oup.com/jamia/advance-article/doi/10.1093/jamia/ocz186/5607431\n",
    "[2]: https://assets.gov.ie/11620/4678fb449336482fb291a140ef67e570.pdf\n",
    "[3]: http://imj.ie/3171-2/"
   ]
  },
  {
   "cell_type": "markdown",
   "metadata": {},
   "source": [
    "## Proportion of adult (>18 yrs) patients attending Irish emergency departments\n",
    "According to the Central Statistics Office (CSO), 10% of the adult Irish population who took part in the [Quarterly National Household Survey Q3 2010][1] attended an accident and emergency (A&E) department in the 12 months prior to the survey. Based on the [2016 census][2], the population of Ireland >18 years of age was estimated at 3,424,795, which equates to roughly 9,383 A&E visits across the country every day. However, a report by the [HSE in 2006][3] placed this figure closer to 3,300. For the interest of this project, we will work with a daily A&E attendance number of 3,500. \n",
    "\n",
    "Presentations to A&E are not evenly distributed across the age categories, with a bimodal presentation with peaks at 18-24 and 70+. Thus, the first parameter for our dataset, namely age, [can be selected from two normal distributions][4] with means at 18 and 70 respectively, standard deviations of 15. This generates a bimodal distribution as shown in the following plot:\n",
    "\n",
    "[1]: https://www.cso.ie/en/media/csoie/releasespublications/documents/labourmarket/2010/healthstatusq32010.pdf\n",
    "[2]: https://statbank.cso.ie/px/pxeirestat/Statire/SelectVarVal/saveselections.asp\n",
    "[3]: https://www.hse.ie/eng/services/publications/hospitals/hse-emergency-departments--patient-profiles,-experiences-and-perceptions.pdf\n",
    "[4]: https://medium.com/@michellemho/faking-data-87c063cf38a7"
   ]
  },
  {
   "cell_type": "code",
   "execution_count": 1,
   "metadata": {},
   "outputs": [],
   "source": [
    "# Import necessary packages\n",
    "import pandas as pd\n",
    "import numpy as np\n",
    "import matplotlib.pyplot as plt"
   ]
  },
  {
   "cell_type": "code",
   "execution_count": 2,
   "metadata": {},
   "outputs": [
    {
     "data": {
      "text/plain": [
       "(array([  4.,  27.,  89., 197., 271., 222., 133.,  46.,  10.,   1.]),\n",
       " array([ 22.78290508,  32.92523131,  43.06755753,  53.20988376,\n",
       "         63.35220998,  73.4945362 ,  83.63686243,  93.77918865,\n",
       "        103.92151488, 114.0638411 , 124.20616733]),\n",
       " <a list of 10 Patch objects>)"
      ]
     },
     "execution_count": 2,
     "metadata": {},
     "output_type": "execute_result"
    },
    {
     "data": {
      "image/png": "[encoded data removed]",
      "text/plain": [
       "<Figure size 432x288 with 1 Axes>"
      ]
     },
     "metadata": {
      "needs_background": "light"
     },
     "output_type": "display_data"
    }
   ],
   "source": [
    "# Generate two normal distributions of 1,000 values, young and old, with mean of 18 and 70 respectively, \n",
    "# and standard deviation of 15\n",
    "y = np.random.normal(18, 15, 1000)\n",
    "o = np.random.normal(70, 15, 1000)\n",
    "\n",
    "# Plot histograms the two distributions on the same plot\n",
    "plt.hist(y)\n",
    "plt.hist(o)"
   ]
  },
  {
   "cell_type": "markdown",
   "metadata": {},
   "source": [
    "Thus, two normal distributions give us a bimodal distribution that represents the distribution as it occurs in reality.\n",
    "\n",
    "However, for the purpose of this exercise, we want to limit our sample to those over 18 years, and under 75 years of age. We also want to create a sample size of 3,500 'patients'. As the data shows that there is roughly an equal proportion of those in the 18-24 age bracket (13%) and the 70+ age bracket (11%), we will sample an equal proportion from each distribution."
   ]
  },
  {
   "cell_type": "code",
   "execution_count": 3,
   "metadata": {},
   "outputs": [],
   "source": [
    "# Create counter and population size\n",
    "count = 0\n",
    "pop = 3500\n",
    "\n",
    "# Create list of ages (this will be converted to a dataframe for analysis in due course)\n",
    "ages = []\n",
    "\n",
    "# Generate a random list of 3,500 ages from a bimodal distribution\n",
    "# Run through the random samples as they are generated, and only add ages > 18 and < 75 to the list\n",
    "while count < pop:\n",
    "    yng = int(np.random.normal(18, 15)) # Young normal distribution centred around a mean of 15, SD of 15\n",
    "    # print(yng)\n",
    "    old = int(np.random.normal(70, 15)) # Old normal distribution centred around a mean of 70, SD of 15\n",
    "    # print(old)\n",
    "    if yng < 18:\n",
    "        continue\n",
    "    if old > 75:\n",
    "        continue\n",
    "    else:\n",
    "        ages.append(yng)\n",
    "        ages.append(old)\n",
    "        count += 2 # Increment count by 2 each time for yng and old age addition"
   ]
  },
  {
   "cell_type": "code",
   "execution_count": 4,
   "metadata": {},
   "outputs": [
    {
     "data": {
      "text/plain": [
       "(array([569., 484., 338., 203., 233., 221., 259., 371., 408., 414.]),\n",
       " array([18. , 23.7, 29.4, 35.1, 40.8, 46.5, 52.2, 57.9, 63.6, 69.3, 75. ]),\n",
       " <a list of 10 Patch objects>)"
      ]
     },
     "execution_count": 4,
     "metadata": {},
     "output_type": "execute_result"
    },
    {
     "data": {
      "image/png": "[encoded data removed]",
      "text/plain": [
       "<Figure size 432x288 with 1 Axes>"
      ]
     },
     "metadata": {
      "needs_background": "light"
     },
     "output_type": "display_data"
    }
   ],
   "source": [
    "# Plot list to confirm bimodal distribution\n",
    "plt.hist(ages)"
   ]
  },
  {
   "cell_type": "markdown",
   "metadata": {},
   "source": [
    "#### Create dataset of 'normal' patients\n",
    "First, we will create a dataset of patients with ['normal' vital signs][1]. We will select these vital signs from a normal distribution within a set range. We will then select a portion of this sample to be sepsis patients and adjust their parameters accordingly. \n",
    "\n",
    "Normal value ranges:\n",
    "- temp: 36.5 to 37.3 degrees celsius\n",
    "- heart rate: 60 to 100 beats per minute\n",
    "- respiratory rate: 12 to 18 breaths per minute\n",
    "- altered mental state: No\n",
    "- [blood glucose level][2]: (fasting) 4.0 to 5.9mmol/L, up to 7.7mmol/L after meals \n",
    "\n",
    "For the purposes of this equation, the mean for each value (apart from mental state) will be the median of the ranges shown. The standard deviation (SD) will be 1/3 the value between the median and the lower/upper limit of the range. This will ensure that 99% of values chosen are within the ranges shown. As a normal distribution is asymptotic, additional conditionals will be employed to ensure all values fall between the ranges as shown.\n",
    "\n",
    "[1]: https://medlineplus.gov/ency/article/002341.htm\n",
    "[2]: https://www.diabetes.co.uk/diabetes_care/blood-sugar-level-ranges.html"
   ]
  },
  {
   "cell_type": "code",
   "execution_count": 5,
   "metadata": {},
   "outputs": [],
   "source": [
    "'''Create values function to select values from normal range:\n",
    "    Takes 3 arguments type integer or float:\n",
    "                        a = lower range limit\n",
    "                        b = upper range limit\n",
    "                        size = population size\n",
    "    Returns a list of values from a normal distribution between a and b of size 'size' '''\n",
    "\n",
    "\n",
    "def values(a, b, size): # a and b are range limits; size is population size\n",
    "    # calculate mean\n",
    "    mn = abs(round((b+a)/2, 2))\n",
    "    \n",
    "    # calculate sd\n",
    "    sd = abs(round((a-mn)/3, 2))\n",
    "    \n",
    "    # set counter\n",
    "    count = 0\n",
    "    \n",
    "    # create empty list\n",
    "    ls = []\n",
    "    \n",
    "    # determine values\n",
    "    while count < size:\n",
    "        x = (np.random.normal(mn, sd))\n",
    "        if x < a or x > b:\n",
    "            continue\n",
    "        else:\n",
    "            ls.append(x)\n",
    "            count += 1\n",
    "        \n",
    "    # return list\n",
    "    return ls"
   ]
  },
  {
   "cell_type": "code",
   "execution_count": 6,
   "metadata": {},
   "outputs": [],
   "source": [
    "# Create lists of normal vital signs\n",
    "temp = values(36.5, 37.3, pop)\n",
    "hr = values(60, 100, pop)\n",
    "rr = values(12, 18, pop)\n",
    "gluc = values(4.0, 7.7, pop)"
   ]
  },
  {
   "cell_type": "code",
   "execution_count": 7,
   "metadata": {},
   "outputs": [],
   "source": [
    "# Create dataframe of 'normal' patient values - https://stackoverflow.com/a/30522778\n",
    "df = pd.DataFrame({'age': ages, 'temp': temp, 'pulse': hr, 'resp_rate': rr, 'sugar': gluc})"
   ]
  },
  {
   "cell_type": "code",
   "execution_count": 8,
   "metadata": {},
   "outputs": [],
   "source": [
    "# Round values appropriately - https://pandas.pydata.org/pandas-docs/stable/reference/api/pandas.DataFrame.round.html\n",
    "df = df.round({'temp': 1, 'pulse': 0, 'resp_rate': 0, 'sugar': 1})"
   ]
  },
  {
   "cell_type": "code",
   "execution_count": 9,
   "metadata": {},
   "outputs": [],
   "source": [
    "# Convert pulse and resp rate float columns to integers - https://stackoverflow.com/a/21291622\n",
    "df.pulse = df.pulse.astype(int)\n",
    "df.resp_rate = df.resp_rate.astype(int)"
   ]
  },
  {
   "cell_type": "code",
   "execution_count": 10,
   "metadata": {},
   "outputs": [],
   "source": [
    "# Add in the mental status column with all values at 'No' - https://www.interviewqs.com/ddi_code_snippets/add_new_col_df_default_value\n",
    "df['alt_ment'] = 'no'\n",
    "\n",
    "# Add in sepsis column with all values at 'no'\n",
    "df['sepsis'] = 'no'"
   ]
  },
  {
   "cell_type": "code",
   "execution_count": 11,
   "metadata": {},
   "outputs": [
    {
     "name": "stdout",
     "output_type": "stream",
     "text": [
      "age            int64\n",
      "temp         float64\n",
      "pulse          int64\n",
      "resp_rate      int64\n",
      "sugar        float64\n",
      "alt_ment      object\n",
      "sepsis        object\n",
      "dtype: object\n"
     ]
    }
   ],
   "source": [
    "# Confirm that values entered of correct type\n",
    "print(df.dtypes)"
   ]
  },
  {
   "cell_type": "code",
   "execution_count": 12,
   "metadata": {},
   "outputs": [
    {
     "data": {
      "text/html": [
       "<div>\n",
       "<style scoped>\n",
       "    .dataframe tbody tr th:only-of-type {\n",
       "        vertical-align: middle;\n",
       "    }\n",
       "\n",
       "    .dataframe tbody tr th {\n",
       "        vertical-align: top;\n",
       "    }\n",
       "\n",
       "    .dataframe thead th {\n",
       "        text-align: right;\n",
       "    }\n",
       "</style>\n",
       "<table border=\"1\" class=\"dataframe\">\n",
       "  <thead>\n",
       "    <tr style=\"text-align: right;\">\n",
       "      <th></th>\n",
       "      <th>age</th>\n",
       "      <th>temp</th>\n",
       "      <th>pulse</th>\n",
       "      <th>resp_rate</th>\n",
       "      <th>sugar</th>\n",
       "      <th>alt_ment</th>\n",
       "      <th>sepsis</th>\n",
       "    </tr>\n",
       "  </thead>\n",
       "  <tbody>\n",
       "    <tr>\n",
       "      <th>0</th>\n",
       "      <td>19</td>\n",
       "      <td>36.8</td>\n",
       "      <td>83</td>\n",
       "      <td>14</td>\n",
       "      <td>6.0</td>\n",
       "      <td>no</td>\n",
       "      <td>no</td>\n",
       "    </tr>\n",
       "    <tr>\n",
       "      <th>1</th>\n",
       "      <td>62</td>\n",
       "      <td>36.9</td>\n",
       "      <td>96</td>\n",
       "      <td>14</td>\n",
       "      <td>5.7</td>\n",
       "      <td>no</td>\n",
       "      <td>no</td>\n",
       "    </tr>\n",
       "    <tr>\n",
       "      <th>2</th>\n",
       "      <td>19</td>\n",
       "      <td>36.8</td>\n",
       "      <td>66</td>\n",
       "      <td>14</td>\n",
       "      <td>6.2</td>\n",
       "      <td>no</td>\n",
       "      <td>no</td>\n",
       "    </tr>\n",
       "    <tr>\n",
       "      <th>3</th>\n",
       "      <td>43</td>\n",
       "      <td>36.9</td>\n",
       "      <td>75</td>\n",
       "      <td>15</td>\n",
       "      <td>6.1</td>\n",
       "      <td>no</td>\n",
       "      <td>no</td>\n",
       "    </tr>\n",
       "    <tr>\n",
       "      <th>4</th>\n",
       "      <td>29</td>\n",
       "      <td>37.3</td>\n",
       "      <td>79</td>\n",
       "      <td>15</td>\n",
       "      <td>6.5</td>\n",
       "      <td>no</td>\n",
       "      <td>no</td>\n",
       "    </tr>\n",
       "  </tbody>\n",
       "</table>\n",
       "</div>"
      ],
      "text/plain": [
       "   age  temp  pulse  resp_rate  sugar alt_ment sepsis\n",
       "0   19  36.8     83         14    6.0       no     no\n",
       "1   62  36.9     96         14    5.7       no     no\n",
       "2   19  36.8     66         14    6.2       no     no\n",
       "3   43  36.9     75         15    6.1       no     no\n",
       "4   29  37.3     79         15    6.5       no     no"
      ]
     },
     "execution_count": 12,
     "metadata": {},
     "output_type": "execute_result"
    }
   ],
   "source": [
    "# Confirm dataframe stored correctly\n",
    "df.head()"
   ]
  },
  {
   "cell_type": "markdown",
   "metadata": {},
   "source": [
    "##### Create sepsis patients\n",
    "According to a [study][1] conducted in one of the busiest EDs in Ireland, roughly 4.24% of ED presentations are suffering from sepsis. This proportion is not evenly distributed, with older patients more likely to have sepsis (median 45 without sepsis versus a median of 65 for those with sepsis). In order to accurately reflect this, we will randomly select 4% of the sample between the ages of 50 and 75 to have sepsis. We will then select 0.5% from the remaining sample (<50) to have sepsis to represent the possibility of sepsis at all ages.\n",
    "\n",
    "Not making decision on gender as per article.\n",
    "\n",
    "[1]: https://www.lenus.ie/bitstream/handle/10147/620877/art3.html?sequence=1"
   ]
  },
  {
   "cell_type": "markdown",
   "metadata": {},
   "source": [
    "All samples drawn from uniform distribution. Why not normal? As mean unknown, don't know if these samples are skewed. And what is the SD? However, is possible to calculate this from median ans IQR if assumed normal distribution - mean = median, SD = IQR/1.35 (https://www.researchgate.net/post/Is_there_any_way_to_get_mean_and_SD_from_median_and_IQR_interquartile_range)\n",
    "\n",
    "Median hearbeat from study - 104, IQR 89-113. Thus, draw from range 91 to 130 (IQR between median and IQR is 15. Assuming that additional 15 on top end is complete range of study, thus 130).\n",
    "\n",
    "Temp - median of 36.7, IQR of 36 to 38. Thus, applying above logic again, upper end of range is 39.3, lower end of range is 36 - 0.7 = 35.3. Need to select randomly from lower (<36) or upper range (>38.3).\n",
    "\n",
    "Median resp rate was 18, IQR 16-20. Thus, applying same principle as above, range is 14-22. Only rr > 20 is indicative. \n",
    "\n",
    "Sugar median was 7.6, IQR 6-9 mmol/L. thus, applying same above principle, range is 4.4 - 10.4. Thus, sepsis is range 7.8 to 10.4"
   ]
  },
  {
   "cell_type": "code",
   "execution_count": 13,
   "metadata": {},
   "outputs": [],
   "source": [
    "# Create proportion of sample\n",
    "older = int(pop*0.04)\n",
    "rest = int(pop*0.005)"
   ]
  },
  {
   "cell_type": "code",
   "execution_count": 74,
   "metadata": {},
   "outputs": [],
   "source": [
    "def sepsis(a, b): # a is the df row; b is the number of variables to change\n",
    "    vitals = np.array(['temp', 'pulse', 'resp_rate', 'sugar', 'alt_ment']) # https://docs.scipy.org/doc/numpy-1.13.0/user/basics.creation.html\n",
    "    print(vitals)\n",
    "    for i in range(b):\n",
    "    # Randomly select variables to change\n",
    "        vc = np.random.choice(vitals)\n",
    "        vitals = vitals[vitals!=vc] # https://thispointer.com/delete-elements-from-a-numpy-array-by-value-or-conditions-in-python/\n",
    "        print(vc)\n",
    "        print(vitals)\n",
    "        if vc == 'pulse':\n",
    "            a.at[:, 'pulse'] = np.random.randint(91, 131)\n",
    "            print(a)\n",
    "        if vc == 'temp':\n",
    "            # decide on random upper or lower limit using binomial distribution\n",
    "            dec = np.random.binomial(1, 0.5)\n",
    "            if dec == 1:\n",
    "                a.at[:, 'temp'] = np.random.choice(np.arange(38.3, 39.4))\n",
    "            else:\n",
    "                a.at[:, 'temp'] = np.random.choice(np.arange(35.3, 36.1))\n",
    "            print(a)\n",
    "        if vc == 'resp_rate':\n",
    "            a.at[:, 'resp_rate'] = np.random.randint(21, 23)\n",
    "            print(a)\n",
    "        if vc == 'sugar':\n",
    "            a.at[:, 'sugar'] = np.random.choice(np.arange(7.8, 10.5))\n",
    "            print(a)\n",
    "        if vc == 'alt_ment':\n",
    "            a.at[:, 'alt_ment'] = 'yes'\n",
    "            print(a)\n",
    "    a.at[:, 'sepsis'] = 'yes'  \n",
    "    print(a)\n",
    "            \n",
    "            "
   ]
  },
  {
   "cell_type": "code",
   "execution_count": 80,
   "metadata": {},
   "outputs": [
    {
     "name": "stdout",
     "output_type": "stream",
     "text": [
      "     age  temp  pulse  resp_rate  sugar alt_ment sepsis\n",
      "947   71  36.7     78         15    5.6       no     no\n",
      "\n",
      "['temp' 'pulse' 'resp_rate' 'sugar' 'alt_ment']\n",
      "alt_ment\n",
      "['temp' 'pulse' 'resp_rate' 'sugar']\n",
      "     age  temp  pulse  resp_rate  sugar alt_ment sepsis\n",
      "947   71  36.7     78         15    5.6      yes     no\n",
      "temp\n",
      "['pulse' 'resp_rate' 'sugar']\n",
      "     age  temp  pulse  resp_rate  sugar alt_ment sepsis\n",
      "947   71  35.3     78         15    5.6      yes     no\n",
      "     age  temp  pulse  resp_rate  sugar alt_ment sepsis\n",
      "947   71  35.3     78         15    5.6      yes    yes\n"
     ]
    }
   ],
   "source": [
    "x = df[df['age'] >= 50].sample()\n",
    "print(x)\n",
    "print()\n",
    "sepsis(x, 2)"
   ]
  },
  {
   "cell_type": "code",
   "execution_count": 15,
   "metadata": {},
   "outputs": [],
   "source": [
    "vitals = np.array(['temp', 'pulse', 'resp_rate', 'sugar', 'alt_ment'])\n",
    "vc = np.random.choice(vitals, replace=False)\n",
    "if vc == 'temp':\n",
    "    print(vc)\n",
    "    print(vitals)"
   ]
  },
  {
   "cell_type": "code",
   "execution_count": null,
   "metadata": {},
   "outputs": [],
   "source": []
  },
  {
   "cell_type": "markdown",
   "metadata": {},
   "source": [
    "Selecting number of vitals to change - not evenly distributed. Proportion decreases with following p:\n",
    "2 - 55% of patients\n",
    "3 - 36%\n",
    "4 - 7%\n",
    "5 - 2%\n",
    "Need to reflect this in numbers"
   ]
  },
  {
   "cell_type": "code",
   "execution_count": 23,
   "metadata": {},
   "outputs": [
    {
     "name": "stdout",
     "output_type": "stream",
     "text": [
      "2\n"
     ]
    }
   ],
   "source": [
    "# Create loop to change proportion of sample\n",
    "\n",
    "# Reset counter\n",
    "count = 0\n",
    "\n",
    "# Run through older proportion of sample \n",
    "while count < 1:\n",
    "    # Choose observation randomly, but weighted to select over 50\n",
    "    x = df[df['age'] >= 50].sample() # https://www.pybloggers.com/2018/11/how-to-use-pandas-sample-to-select-rows-and-columns/\n",
    "    # print(x)\n",
    "    if (x['sepsis'] == 'yes').bool(): # https://stackoverflow.com/a/36922103\n",
    "        continue\n",
    "    # Randomly determine number of vital signs to change - 2, 3, 4, or 5 - with reducing probability - https://stackoverflow.com/a/4266645\n",
    "    num = np.random.choice(np.arange(2, 6), p=[0.55, 0.36, 0.07, 0.02])\n",
    "    print(num)\n",
    "    # Adjust the corresponding number of vital signs using the sepsis function\n",
    "    sepsis(x, num)\n",
    "    count += 1\n",
    "    "
   ]
  },
  {
   "cell_type": "code",
   "execution_count": null,
   "metadata": {},
   "outputs": [],
   "source": [
    "np.random.randint(2, 6)"
   ]
  },
  {
   "cell_type": "code",
   "execution_count": null,
   "metadata": {},
   "outputs": [],
   "source": [
    "x = df[df['age'] >= 50].sample()\n",
    "if (x['sepsis'] == 'no').bool():\n",
    "    print('no')"
   ]
  },
  {
   "cell_type": "code",
   "execution_count": null,
   "metadata": {},
   "outputs": [],
   "source": [
    "# Create sepsis function\n",
    "def sepsis(a): # a is the df frame\n",
    "    # Choose observation randomly, but weighted to select over 50\n",
    "    x = df[df['age'] >= 50].sample() # https://www.pybloggers.com/2018/11/how-to-use-pandas-sample-to-select-rows-and-columns/\n",
    "    print(x)"
   ]
  },
  {
   "cell_type": "code",
   "execution_count": null,
   "metadata": {},
   "outputs": [],
   "source": []
  },
  {
   "cell_type": "code",
   "execution_count": null,
   "metadata": {},
   "outputs": [],
   "source": []
  },
  {
   "cell_type": "code",
   "execution_count": null,
   "metadata": {},
   "outputs": [],
   "source": []
  },
  {
   "cell_type": "code",
   "execution_count": null,
   "metadata": {},
   "outputs": [],
   "source": []
  },
  {
   "cell_type": "code",
   "execution_count": null,
   "metadata": {},
   "outputs": [],
   "source": [
    "# Select random sample weighted for those over 50\n",
    "df[df['age'] >= 50].sample() # https://www.pybloggers.com/2018/11/how-to-use-pandas-sample-to-select-rows-and-columns/"
   ]
  },
  {
   "cell_type": "code",
   "execution_count": null,
   "metadata": {},
   "outputs": [],
   "source": [
    "df[df['age'] < 50].sample(rest)"
   ]
  },
  {
   "cell_type": "code",
   "execution_count": null,
   "metadata": {},
   "outputs": [],
   "source": [
    "df"
   ]
  },
  {
   "cell_type": "code",
   "execution_count": null,
   "metadata": {},
   "outputs": [],
   "source": []
  }
 ],
 "metadata": {
  "kernelspec": {
   "display_name": "Python 3",
   "language": "python",
   "name": "python3"
  },
  "language_info": {
   "codemirror_mode": {
    "name": "ipython",
    "version": 3
   },
   "file_extension": ".py",
   "mimetype": "text/x-python",
   "name": "python",
   "nbconvert_exporter": "python",
   "pygments_lexer": "ipython3",
   "version": "3.7.1"
  }
 },
 "nbformat": 4,
 "nbformat_minor": 2
}
