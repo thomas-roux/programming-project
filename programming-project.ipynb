{
 "cells": [
  {
   "cell_type": "markdown",
   "metadata": {},
   "source": [
    "**WORK IN PROGRESS**"
   ]
  },
  {
   "cell_type": "markdown",
   "metadata": {},
   "source": [
    "# Purpose"
   ]
  },
  {
   "cell_type": "markdown",
   "metadata": {},
   "source": [
    "To develop a dataset of simulated patients attending ED with sepsis. \n",
    "\n",
    "This dataset arose from a [recent article][1] that described how an active sepsis alert system reduced inpatient mortality and morbidity on a large scale. This investigation was driven by the lack of large scale studies investigating the effectiveness of such a system. As ED is the first port of call for most patients, it may be useful to apply similar systems in such a setting. The following dataset simulates an adult ED population of a typical Irish hospital, and the number of patients with sepsis in that population.\n",
    "\n",
    "[1]: https://academic.oup.com/jamia/advance-article/doi/10.1093/jamia/ocz186/5607431"
   ]
  },
  {
   "cell_type": "markdown",
   "metadata": {},
   "source": [
    "## Proportion of adult (>18 yrs) patients attending Irish emergency departments\n",
    "According to the Central Statistics Office (CSO), 10% of the adult Irish population who took part in the [Quarterly National Household Survey Q3 2010][1] attended an accident and emergency (A&E) department in the 12 months prior to the survey. Based on the [2016 census][2], the population of Ireland >18 years of age was estimated at 3,424,795, which equates to roughly 9,383 A&E visits across the country every day. However, a report by the [HSE in 2006][3] placed this figure closer to 3,300. For the interest of this project, we will work with a daily A&E attendance number of 3,500. \n",
    "\n",
    "Presentations to A&E are not evenly distributed across the age categories, with a bimodal presentation with peaks at 18-24 and 70+. Thus, the first parameter for our dataset, namely age, [can be selected from two normal distributions][4] with means at 18 and 70 respectively, standard deviations of 15. This generates a bimodal distribution as shown in the following plot:\n",
    "\n",
    "[1]: https://www.cso.ie/en/media/csoie/releasespublications/documents/labourmarket/2010/healthstatusq32010.pdf\n",
    "[2]: https://statbank.cso.ie/px/pxeirestat/Statire/SelectVarVal/saveselections.asp\n",
    "[3]: https://www.hse.ie/eng/services/publications/hospitals/hse-emergency-departments--patient-profiles,-experiences-and-perceptions.pdf\n",
    "[4]: https://medium.com/@michellemho/faking-data-87c063cf38a7"
   ]
  },
  {
   "cell_type": "code",
   "execution_count": 4,
   "metadata": {},
   "outputs": [],
   "source": [
    "# Import necessary packages\n",
    "import pandas as pd\n",
    "import numpy as np\n",
    "import matplotlib.pyplot as plt"
   ]
  },
  {
   "cell_type": "code",
   "execution_count": 5,
   "metadata": {},
   "outputs": [
    {
     "data": {
      "text/plain": [
       "(array([  3.,   7.,  44., 135., 270., 274., 182.,  69.,  14.,   2.]),\n",
       " array([ 14.01535818,  25.02366848,  36.03197877,  47.04028906,\n",
       "         58.04859935,  69.05690965,  80.06521994,  91.07353023,\n",
       "        102.08184052, 113.09015081, 124.09846111]),\n",
       " <a list of 10 Patch objects>)"
      ]
     },
     "execution_count": 5,
     "metadata": {},
     "output_type": "execute_result"
    },
    {
     "data": {
      "image/png": "[encoded data removed]",
      "text/plain": [
       "<Figure size 432x288 with 1 Axes>"
      ]
     },
     "metadata": {
      "needs_background": "light"
     },
     "output_type": "display_data"
    }
   ],
   "source": [
    "# Generate two normal distributions of 1,000 values, young and old, with mean of 18 and 70 respectively, \n",
    "# and standard deviation of 15\n",
    "yng = np.random.normal(18, 15, 1000)\n",
    "old = np.random.normal(70, 15, 1000)\n",
    "\n",
    "# Plot histograms the two distributions on the same plot\n",
    "plt.hist(yng)\n",
    "plt.hist(old)"
   ]
  },
  {
   "cell_type": "markdown",
   "metadata": {},
   "source": [
    "Thus, two normal distributions give us a bimodal distribution that represents the distribution as it occurs in reality.\n",
    "\n",
    "However, for the purpose of this exercise, we want to limit our sample to those over 18 years, and under 75 years of age. We also want to create a sample size of 3,500 'patients'. As the data shows that there is roughly an equal proportion of those in the 18-24 age bracket (13%) and the 70+ age bracket (11%), we will sample an equal proportion from each distribution."
   ]
  },
  {
   "cell_type": "code",
   "execution_count": 17,
   "metadata": {},
   "outputs": [],
   "source": [
    "# Create counter\n",
    "count = 0\n",
    "\n",
    "# Create list of ages (this will be converted to a dataframe for analysis in due course)\n",
    "ages = []\n",
    "\n",
    "# Generate a random list of 3,500 ages from a bimodal distribution\n",
    "# Run through the random samples as they are generated, and only add ages > 18 and < 75 to the list\n",
    "while count < 3500:\n",
    "    yng = int(np.random.normal(18, 15)) # Young normal distribution centred around a mean of 15, SD of 15\n",
    "    old = int(np.random.normal(70, 15)) # Old normal distribution centred around a mean of 70, SD of 15\n",
    "    if yng < 18 or old > 75:\n",
    "        continue\n",
    "    else:\n",
    "        ages.append(yng)\n",
    "        ages.append(old)\n",
    "    count += 2 # Increment count by 2 each time for yng and old age addition"
   ]
  },
  {
   "cell_type": "code",
   "execution_count": 18,
   "metadata": {},
   "outputs": [
    {
     "data": {
      "text/plain": [
       "(array([553., 460., 364., 234., 228., 241., 245., 356., 422., 397.]),\n",
       " array([18. , 23.7, 29.4, 35.1, 40.8, 46.5, 52.2, 57.9, 63.6, 69.3, 75. ]),\n",
       " <a list of 10 Patch objects>)"
      ]
     },
     "execution_count": 18,
     "metadata": {},
     "output_type": "execute_result"
    },
    {
     "data": {
      "image/png": "[encoded data removed]",
      "text/plain": [
       "<Figure size 432x288 with 1 Axes>"
      ]
     },
     "metadata": {
      "needs_background": "light"
     },
     "output_type": "display_data"
    }
   ],
   "source": [
    "# Plot list to confirm bimodal distribution\n",
    "plt.hist(ages)"
   ]
  },
  {
   "cell_type": "code",
   "execution_count": null,
   "metadata": {},
   "outputs": [],
   "source": []
  }
 ],
 "metadata": {
  "kernelspec": {
   "display_name": "Python 3",
   "language": "python",
   "name": "python3"
  },
  "language_info": {
   "codemirror_mode": {
    "name": "ipython",
    "version": 3
   },
   "file_extension": ".py",
   "mimetype": "text/x-python",
   "name": "python",
   "nbconvert_exporter": "python",
   "pygments_lexer": "ipython3",
   "version": "3.7.1"
  }
 },
 "nbformat": 4,
 "nbformat_minor": 2
}
